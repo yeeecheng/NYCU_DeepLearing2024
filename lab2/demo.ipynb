{
 "cells": [
  {
   "cell_type": "code",
   "execution_count": 1,
   "metadata": {},
   "outputs": [
    {
     "name": "stdout",
     "output_type": "stream",
     "text": [
      "Device: cuda:0\n",
      "In the test set, feature shape: torch.Size([2304, 1, 22, 438]), label shape: torch.Size([2304])\n",
      "[ Test ] loss = 1.04036, acc = 0.62283\n"
     ]
    },
    {
     "name": "stderr",
     "output_type": "stream",
     "text": [
      "\n",
      "  0%|          | 0/72 [00:00<?, ?it/s]\n",
      "  1%|▏         | 1/72 [00:00<00:22,  3.14it/s]\n",
      " 31%|███       | 22/72 [00:00<00:00, 66.89it/s]\n",
      " 61%|██████    | 44/72 [00:00<00:00, 112.49it/s]\n",
      " 93%|█████████▎| 67/72 [00:00<00:00, 147.24it/s]\n",
      "100%|██████████| 72/72 [00:00<00:00, 110.76it/s]\n"
     ]
    }
   ],
   "source": [
    "# SD, acc =0.62283\n",
    "!python ./tester.py -m SD -C 11 --Nu 22 --Nc 10 --Nt 1 --p ./weight/bestSD.ckpt"
   ]
  },
  {
   "cell_type": "code",
   "execution_count": 2,
   "metadata": {},
   "outputs": [
    {
     "name": "stdout",
     "output_type": "stream",
     "text": [
      "Device: cuda:0\n",
      "In the test set, feature shape: torch.Size([288, 1, 22, 438]), label shape: torch.Size([288])\n",
      "[ Test ] loss = 1.26022, acc = 0.62500\n"
     ]
    },
    {
     "name": "stderr",
     "output_type": "stream",
     "text": [
      "\n",
      "  0%|          | 0/9 [00:00<?, ?it/s]\n",
      " 11%|█         | 1/9 [00:00<00:02,  2.95it/s]\n",
      "100%|██████████| 9/9 [00:00<00:00, 23.78it/s]\n"
     ]
    }
   ],
   "source": [
    "# LOSO, acc = 0.62500\n",
    "!python ./tester.py -m LOSO -C 11 --Nu 22 --Nc 10 --Nt 1 --p ./weight/bestLOSO.ckpt"
   ]
  },
  {
   "cell_type": "code",
   "execution_count": 3,
   "metadata": {},
   "outputs": [
    {
     "name": "stdout",
     "output_type": "stream",
     "text": [
      "Device: cuda:0\n",
      "In the test set, feature shape: torch.Size([288, 1, 22, 438]), label shape: torch.Size([288])\n",
      "[ Test ] loss = 0.91141, acc = 0.78472\n"
     ]
    },
    {
     "name": "stderr",
     "output_type": "stream",
     "text": [
      "\n",
      "  0%|          | 0/9 [00:00<?, ?it/s]\n",
      " 11%|█         | 1/9 [00:00<00:02,  2.91it/s]\n",
      "100%|██████████| 9/9 [00:00<00:00, 23.48it/s]\n"
     ]
    }
   ],
   "source": [
    "# FT LOSO, acc = 0.78472\n",
    "!python ./tester.py -m FT -C 11 --Nu 22 --Nc 10 --Nt 1 --p ./weight/bestFT.ckpt"
   ]
  }
 ],
 "metadata": {
  "kernelspec": {
   "display_name": "GPU",
   "language": "python",
   "name": "python3"
  },
  "language_info": {
   "codemirror_mode": {
    "name": "ipython",
    "version": 3
   },
   "file_extension": ".py",
   "mimetype": "text/x-python",
   "name": "python",
   "nbconvert_exporter": "python",
   "pygments_lexer": "ipython3",
   "version": "3.10.13"
  }
 },
 "nbformat": 4,
 "nbformat_minor": 2
}
